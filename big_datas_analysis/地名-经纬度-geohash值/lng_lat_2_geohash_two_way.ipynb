{
 "cells": [
  {
   "cell_type": "markdown",
   "metadata": {},
   "source": [
    "## 主要实现\n",
    "- 批量查询位置点 经纬度等信息\n",
    "- 经纬度转换为 geohash块、\n",
    "- 目标geohash 临近geohash块\n",
    "    - 九宫格"
   ]
  },
  {
   "cell_type": "markdown",
   "metadata": {},
   "source": [
    "### Note\n",
    "- 查询位置列表， 需<font color=#FF1953>提前提供</font>"
   ]
  },
  {
   "cell_type": "code",
   "execution_count": 5,
   "metadata": {
    "collapsed": true
   },
   "outputs": [],
   "source": [
    "city_lis=['北京', '上海', '郑州']"
   ]
  },
  {
   "cell_type": "markdown",
   "metadata": {},
   "source": [
    "### 获取位置地点经纬度等信息\n",
    "- 获取经纬度等信息\n",
    "- 计算 geohash"
   ]
  },
  {
   "cell_type": "code",
   "execution_count": 6,
   "metadata": {
    "collapsed": true
   },
   "outputs": [],
   "source": [
    "import pandas as pd\n",
    "import mzgeohash\n",
    "import urllib2\n",
    "import urllib\n",
    "import json"
   ]
  },
  {
   "cell_type": "code",
   "execution_count": 23,
   "metadata": {},
   "outputs": [],
   "source": [
    "'''\n",
    "根据位置名称，获取经纬度等信息\n",
    "'''\n",
    "def get_metas_from_baidu(city):\n",
    "    metas={}\n",
    "    metas['key']='f247cdb592eb43ebac6ccd27f796e2d2'\n",
    "    metas['address']=city   # 城市名称\n",
    "    \n",
    "    data=urllib.urlencode(metas)\n",
    "    url='http://api.map.baidu.com/geocoder?output=json&'+urllib.urlencode(metas)\n",
    "    # 注释 url='http://api.map.baidu.com/geocoder?'+urllib.urlencode(metas)+'&output=json'\n",
    "    unicode_s=urllib2.urlopen(url)\n",
    "    \n",
    "    return json.loads(unicode_s.read())\n",
    "\n",
    "city_meta_lis=[]  #  计算 geohash 编码并存储\n",
    "for city in city_lis:\n",
    "    tmp=get_metas_from_baidu(city)\n",
    "    latitude=tmp['result']['location']['lat']\n",
    "    longitude=tmp['result']['location']['lng']\n",
    "    t_geohash=mzgeohash.encode((longitude,latitude)) # 使用mzgeohash 计算geohash\n",
    "    city_meta_lis.append([city,latitude,longitude,t_geohash]) # 存储"
   ]
  },
  {
   "cell_type": "code",
   "execution_count": 24,
   "metadata": {},
   "outputs": [
    {
     "data": {
      "text/html": [
       "<div>\n",
       "<style>\n",
       "    .dataframe thead tr:only-child th {\n",
       "        text-align: right;\n",
       "    }\n",
       "\n",
       "    .dataframe thead th {\n",
       "        text-align: left;\n",
       "    }\n",
       "\n",
       "    .dataframe tbody tr th {\n",
       "        vertical-align: top;\n",
       "    }\n",
       "</style>\n",
       "<table border=\"1\" class=\"dataframe\">\n",
       "  <thead>\n",
       "    <tr style=\"text-align: right;\">\n",
       "      <th></th>\n",
       "      <th>city</th>\n",
       "      <th>latitude</th>\n",
       "      <th>longitude</th>\n",
       "      <th>geohash</th>\n",
       "    </tr>\n",
       "  </thead>\n",
       "  <tbody>\n",
       "    <tr>\n",
       "      <th>0</th>\n",
       "      <td>北京</td>\n",
       "      <td>39.929986</td>\n",
       "      <td>116.395645</td>\n",
       "      <td>wx4g0th9p0gk</td>\n",
       "    </tr>\n",
       "    <tr>\n",
       "      <th>1</th>\n",
       "      <td>上海</td>\n",
       "      <td>31.249162</td>\n",
       "      <td>121.487899</td>\n",
       "      <td>wtw3u88z94p0</td>\n",
       "    </tr>\n",
       "    <tr>\n",
       "      <th>2</th>\n",
       "      <td>郑州</td>\n",
       "      <td>34.756610</td>\n",
       "      <td>113.649644</td>\n",
       "      <td>ww0vdpjputsw</td>\n",
       "    </tr>\n",
       "  </tbody>\n",
       "</table>\n",
       "</div>"
      ],
      "text/plain": [
       "  city   latitude   longitude       geohash\n",
       "0   北京  39.929986  116.395645  wx4g0th9p0gk\n",
       "1   上海  31.249162  121.487899  wtw3u88z94p0\n",
       "2   郑州  34.756610  113.649644  ww0vdpjputsw"
      ]
     },
     "execution_count": 24,
     "metadata": {},
     "output_type": "execute_result"
    }
   ],
   "source": [
    "# 格式化输出\n",
    "df=pd.DataFrame(city_meta_lis, columns=['city','latitude','longitude','geohash'])\n",
    "df"
   ]
  },
  {
   "cell_type": "markdown",
   "metadata": {},
   "source": [
    "### mzgeohash\n",
    "- 调用方式\n",
    "- 实现原理"
   ]
  },
  {
   "cell_type": "markdown",
   "metadata": {},
   "source": [
    "### list all member methods"
   ]
  },
  {
   "cell_type": "code",
   "execution_count": 23,
   "metadata": {},
   "outputs": [
    {
     "data": {
      "text/plain": [
       "['__builtins__',\n",
       " '__doc__',\n",
       " '__file__',\n",
       " '__name__',\n",
       " '__package__',\n",
       " '__path__',\n",
       " '__version__',\n",
       " 'adjacent',\n",
       " 'decode',\n",
       " 'encode',\n",
       " 'geohash',\n",
       " 'neighbors',\n",
       " 'neighborsfit']"
      ]
     },
     "execution_count": 23,
     "metadata": {},
     "output_type": "execute_result"
    }
   ],
   "source": [
    "dir(mzgeohash)"
   ]
  },
  {
   "cell_type": "markdown",
   "metadata": {},
   "source": [
    "#### 经纬度 转换为 geohash"
   ]
  },
  {
   "cell_type": "code",
   "execution_count": 31,
   "metadata": {},
   "outputs": [
    {
     "data": {
      "text/plain": [
       "'xn76urwe1g9y'"
      ]
     },
     "execution_count": 31,
     "metadata": {},
     "output_type": "execute_result"
    }
   ],
   "source": [
    "mzgeohash.encode([139.76608408614993, 35.681382017210126])"
   ]
  },
  {
   "cell_type": "markdown",
   "metadata": {},
   "source": [
    "#### geohash 转换为 经纬度"
   ]
  },
  {
   "cell_type": "code",
   "execution_count": 33,
   "metadata": {},
   "outputs": [
    {
     "data": {
      "text/plain": [
       "(139.76608408614993, 35.681382017210126)"
      ]
     },
     "execution_count": 33,
     "metadata": {},
     "output_type": "execute_result"
    }
   ],
   "source": [
    "mzgeohash.decode('xn76urwe1g9y')"
   ]
  },
  {
   "cell_type": "markdown",
   "metadata": {},
   "source": [
    "#### 已知 geohash ，计算某一方向的临近geohash\n",
    "- 参数 1\n",
    "    - 已知 geohash 串\n",
    "- 参数 2\n",
    "    - 方向"
   ]
  },
  {
   "cell_type": "code",
   "execution_count": 35,
   "metadata": {},
   "outputs": [
    {
     "data": {
      "text/plain": [
       "'xn76urwe1g9z'"
      ]
     },
     "execution_count": 35,
     "metadata": {},
     "output_type": "execute_result"
    }
   ],
   "source": [
    "mzgeohash.adjacent('xn76urwe1g9y','n') # "
   ]
  },
  {
   "cell_type": "markdown",
   "metadata": {},
   "source": [
    "#### 已知 geohash ，临近geohash\n",
    "- 九宫格，即周围 8 个geohash"
   ]
  },
  {
   "cell_type": "code",
   "execution_count": 34,
   "metadata": {},
   "outputs": [
    {
     "data": {
      "text/plain": [
       "{'c': 'xn76urwe1g9y',\n",
       " 'e': 'xn76urwe1gdn',\n",
       " 'n': 'xn76urwe1g9z',\n",
       " 'ne': 'xn76urwe1gdp',\n",
       " 'nw': 'xn76urwe1g9x',\n",
       " 's': 'xn76urwe1g9v',\n",
       " 'se': 'xn76urwe1gdj',\n",
       " 'sw': 'xn76urwe1g9t',\n",
       " 'w': 'xn76urwe1g9w'}"
      ]
     },
     "execution_count": 34,
     "metadata": {},
     "output_type": "execute_result"
    }
   ],
   "source": [
    "mzgeohash.neighbors('xn76urwe1g9y')"
   ]
  },
  {
   "cell_type": "markdown",
   "metadata": {},
   "source": [
    "#### 已知 某位置点经纬度和周围经纬度点集，计算同属 geohash"
   ]
  },
  {
   "cell_type": "code",
   "execution_count": 37,
   "metadata": {},
   "outputs": [
    {
     "data": {
      "text/plain": [
       "'9q9'"
      ]
     },
     "execution_count": 37,
     "metadata": {},
     "output_type": "execute_result"
    }
   ],
   "source": [
    "test_centroid = [-122.18472385000001, 37.7881345]\n",
    "test_points = [\n",
    "(-122.2992715, 37.9030588),\n",
    "(-122.396742, 37.792976),\n",
    "(-122.4474142, 37.72198087),\n",
    "(-121.9764, 37.557355),\n",
    "(-122.029095, 37.973737),\n",
    "(-122.224274, 37.774963),\n",
    "(-122.271604, 37.803664),\n",
    "(-122.126871, 37.697185),\n",
    "(-122.087967, 37.670399),\n",
    "(-122.123801, 37.893394),\n",
    "(-122.269029, 37.80787),\n",
    "(-122.265609, 37.797484),\n",
    "(-122.267227, 37.828415),\n",
    "(-122.067423, 37.905628),\n",
    "(-122.267227, 37.828415),\n",
    "(-122.38666, 37.599787),\n",
    "(-122.075567, 37.690754),\n",
    "(-122.401407, 37.789256),\n",
    "(-122.283451, 37.87404),\n",
    "(-122.269029, 37.80787),\n",
    "(-122.1837911, 37.87836087),\n",
    "(-122.419694, 37.765062),\n",
    "(-122.2945822, 37.80467476),\n",
    "(-122.21244024, 37.71297174),\n",
    "(-121.945154, 38.018914),\n",
    "(-122.466233, 37.684638),\n",
    "(-122.056013, 37.928403),\n",
    "(-122.406857, 37.784991),\n",
    "(-122.418466, 37.752254),\n",
    "(-122.26978, 37.853024),\n",
    "(-122.251793, 37.844601),\n",
    "(-121.928099, 37.699759),\n",
    "(-122.416038, 37.637753),\n",
    "(-122.1613112, 37.72261921),\n",
    "(-122.0575506, 37.63479954),\n",
    "(-122.392612, 37.616035),\n",
    "(-122.413756, 37.779528),\n",
    "(-122.353165, 37.936887),\n",
    "(-122.197273, 37.754006),\n",
    "(-122.017867, 37.591208),\n",
    "(-122.024597, 38.003275),\n",
    "(-122.4690807, 37.70612055),\n",
    "(-122.268045, 37.869867),\n",
    "(-122.444116, 37.664174),\n",
    "(-121.900367, 37.701695),\n",
    "(-122.317269, 37.925655),\n",
    "(-122.434092, 37.732921)\n",
    "]\n",
    "\n",
    "# expect = '9q9'\n",
    "mzgeohash.neighborsfit(test_centroid, test_points)"
   ]
  },
  {
   "cell_type": "markdown",
   "metadata": {},
   "source": [
    "### 使用unittest进行 mzgeohash 模块测试\n",
    "- 通过 testsuit 执行测试用例\n",
    "- TestCase：所有测试用例的基本类，给定测试方法的名称，返回测试用例实例；\n",
    "- TestSuit：组织测试用例的实例，支持测试用例的添加和删除，最终将传递给 testRunner进行测试执行；\n",
    "- TextTestRunner：进行测试用例执行的实例，其中Text的意思是以文本形式显示测试结果。\n",
    "    - 测试结果保存在 TextTestResult 实例中，包括运行多少测试用例，成功多少，失败多少等信息；"
   ]
  },
  {
   "cell_type": "code",
   "execution_count": 6,
   "metadata": {
    "collapsed": true
   },
   "outputs": [],
   "source": [
    "import unittest\n",
    "from mzgeohash.test_geohash import Test_encode_decode\n",
    "from mzgeohash.test_geohash import Test_adjacent\n",
    "from mzgeohash.test_geohash import Test_neighbors\n",
    "from mzgeohash.test_geohash import Test_neighborsfit"
   ]
  },
  {
   "cell_type": "code",
   "execution_count": 35,
   "metadata": {},
   "outputs": [
    {
     "name": "stderr",
     "output_type": "stream",
     "text": [
      "............\n",
      "----------------------------------------------------------------------\n",
      "Ran 12 tests in 0.053s\n",
      "\n",
      "OK\n"
     ]
    }
   ],
   "source": [
    "suite=unittest.TestSuite()\n",
    "suite.addTest(Test_encode_decode('test_decode'))\n",
    "suite.addTest(Test_encode_decode('test_encode'))\n",
    "suite.addTest(Test_encode_decode('test_roundtrip'))\n",
    "suite.addTest(Test_neighbors('test_neighbors'))\n",
    "suite.addTest(Test_adjacent('test_adjacent'))\n",
    "suite.addTest(Test_neighborsfit('test_neighborsfit'))\n",
    "\n",
    "runner=unittest.TextTestRunner()\n",
    "runner.run(suite);"
   ]
  }
 ],
 "metadata": {
  "kernelspec": {
   "display_name": "Python 2",
   "language": "python",
   "name": "python2"
  },
  "language_info": {
   "codemirror_mode": {
    "name": "ipython",
    "version": 2
   },
   "file_extension": ".py",
   "mimetype": "text/x-python",
   "name": "python",
   "nbconvert_exporter": "python",
   "pygments_lexer": "ipython2",
   "version": "2.7.13"
  },
  "toc": {
   "nav_menu": {},
   "number_sections": true,
   "sideBar": true,
   "skip_h1_title": false,
   "toc_cell": false,
   "toc_position": {
    "height": "595px",
    "left": "0px",
    "right": "1092px",
    "top": "107px",
    "width": "212px"
   },
   "toc_section_display": "block",
   "toc_window_display": true
  }
 },
 "nbformat": 4,
 "nbformat_minor": 2
}
