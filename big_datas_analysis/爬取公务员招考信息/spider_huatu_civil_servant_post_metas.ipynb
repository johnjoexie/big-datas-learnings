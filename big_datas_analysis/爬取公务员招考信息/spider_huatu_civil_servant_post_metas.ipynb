{
 "cells": [
  {
   "cell_type": "markdown",
   "metadata": {
    "deletable": true,
    "editable": true
   },
   "source": [
    "### 爬取浙江公务员职位信息"
   ]
  },
  {
   "cell_type": "code",
   "execution_count": 2,
   "metadata": {
    "collapsed": true,
    "deletable": true,
    "editable": true
   },
   "outputs": [],
   "source": [
    "import urllib\n",
    "import pandas as pd\n",
    "\n",
    "from bs4 import BeautifulSoup"
   ]
  },
  {
   "cell_type": "markdown",
   "metadata": {},
   "source": [
    "### 1 爬取页面"
   ]
  },
  {
   "cell_type": "code",
   "execution_count": 3,
   "metadata": {
    "collapsed": false,
    "deletable": true,
    "editable": true
   },
   "outputs": [],
   "source": [
    "api = 'http://zw.huatu.com'\n",
    "base='/2018/'\n",
    "url=api+base\n",
    "\n",
    "header={'User-Agent':'Mozilla/5.0 (Windows NT 6.1; WOW64) AppleWebKit/537.36 (KHTML, like Gecko) Chrome/63.0.3236.0 Safari/537.36'}\n",
    "request = urllib.request.Request(url,headers=header)\n",
    "response = urllib.request.urlopen(request).read()\n",
    "\n",
    "content=BeautifulSoup(response, 'lxml')"
   ]
  },
  {
   "cell_type": "markdown",
   "metadata": {},
   "source": [
    "### 2 内容解析\n",
    "- 省/市 : 对应 URL [32个]"
   ]
  },
  {
   "cell_type": "code",
   "execution_count": 5,
   "metadata": {
    "collapsed": false,
    "deletable": true,
    "editable": true
   },
   "outputs": [],
   "source": [
    "areas_txt=content.find_all('p', attrs={'id':'ydiqu'})[0]\n",
    "area_metas_lis=[]\n",
    "counter=0\n",
    "\n",
    "for i in areas_txt.find_all('a', attrs={'target':'_blank'}):\n",
    "    url=api+i.get_attribute_list('href')[0][2:]\n",
    "    area=i.get_text()\n",
    "    counter+=1\n",
    "    area_metas_lis.append([counter,area,url])"
   ]
  },
  {
   "cell_type": "code",
   "execution_count": 12,
   "metadata": {
    "collapsed": false,
    "deletable": true,
    "editable": true
   },
   "outputs": [
    {
     "data": {
      "text/html": [
       "<div>\n",
       "<style>\n",
       "    .dataframe thead tr:only-child th {\n",
       "        text-align: right;\n",
       "    }\n",
       "\n",
       "    .dataframe thead th {\n",
       "        text-align: left;\n",
       "    }\n",
       "\n",
       "    .dataframe tbody tr th {\n",
       "        vertical-align: top;\n",
       "    }\n",
       "</style>\n",
       "<table border=\"1\" class=\"dataframe\">\n",
       "  <thead>\n",
       "    <tr style=\"text-align: right;\">\n",
       "      <th></th>\n",
       "      <th>no</th>\n",
       "      <th>area</th>\n",
       "      <th>url</th>\n",
       "    </tr>\n",
       "  </thead>\n",
       "  <tbody>\n",
       "    <tr>\n",
       "      <th>0</th>\n",
       "      <td>1</td>\n",
       "      <td>安徽</td>\n",
       "      <td>http://zw.huatu.com/2018/buweisearch/1.html</td>\n",
       "    </tr>\n",
       "    <tr>\n",
       "      <th>1</th>\n",
       "      <td>2</td>\n",
       "      <td>北京</td>\n",
       "      <td>http://zw.huatu.com/2018/buweisearch/2.html</td>\n",
       "    </tr>\n",
       "    <tr>\n",
       "      <th>2</th>\n",
       "      <td>3</td>\n",
       "      <td>福建</td>\n",
       "      <td>http://zw.huatu.com/2018/buweisearch/3.html</td>\n",
       "    </tr>\n",
       "    <tr>\n",
       "      <th>3</th>\n",
       "      <td>4</td>\n",
       "      <td>甘肃</td>\n",
       "      <td>http://zw.huatu.com/2018/buweisearch/4.html</td>\n",
       "    </tr>\n",
       "    <tr>\n",
       "      <th>4</th>\n",
       "      <td>5</td>\n",
       "      <td>广东</td>\n",
       "      <td>http://zw.huatu.com/2018/buweisearch/5.html</td>\n",
       "    </tr>\n",
       "  </tbody>\n",
       "</table>\n",
       "</div>"
      ],
      "text/plain": [
       "   no area                                          url\n",
       "0   1   安徽  http://zw.huatu.com/2018/buweisearch/1.html\n",
       "1   2   北京  http://zw.huatu.com/2018/buweisearch/2.html\n",
       "2   3   福建  http://zw.huatu.com/2018/buweisearch/3.html\n",
       "3   4   甘肃  http://zw.huatu.com/2018/buweisearch/4.html\n",
       "4   5   广东  http://zw.huatu.com/2018/buweisearch/5.html"
      ]
     },
     "execution_count": 12,
     "metadata": {},
     "output_type": "execute_result"
    }
   ],
   "source": [
    "df=pd.DataFrame(area_metas_lis, columns=['no','area', 'url'])\n",
    "df.head()"
   ]
  },
  {
   "cell_type": "markdown",
   "metadata": {
    "deletable": true,
    "editable": true
   },
   "source": [
    "### 3 以浙江为例，通过省份查询招聘单位及具体信息访问途径（URL）"
   ]
  },
  {
   "cell_type": "code",
   "execution_count": 8,
   "metadata": {
    "collapsed": false,
    "deletable": true,
    "editable": true
   },
   "outputs": [
    {
     "data": {
      "text/html": [
       "<div>\n",
       "<style>\n",
       "    .dataframe thead tr:only-child th {\n",
       "        text-align: right;\n",
       "    }\n",
       "\n",
       "    .dataframe thead th {\n",
       "        text-align: left;\n",
       "    }\n",
       "\n",
       "    .dataframe tbody tr th {\n",
       "        vertical-align: top;\n",
       "    }\n",
       "</style>\n",
       "<table border=\"1\" class=\"dataframe\">\n",
       "  <thead>\n",
       "    <tr style=\"text-align: right;\">\n",
       "      <th></th>\n",
       "      <th>no</th>\n",
       "      <th>area</th>\n",
       "      <th>url</th>\n",
       "    </tr>\n",
       "  </thead>\n",
       "  <tbody>\n",
       "    <tr>\n",
       "      <th>30</th>\n",
       "      <td>31</td>\n",
       "      <td>浙江</td>\n",
       "      <td>http://zw.huatu.com/2018/buweisearch/31.html</td>\n",
       "    </tr>\n",
       "  </tbody>\n",
       "</table>\n",
       "</div>"
      ],
      "text/plain": [
       "    no area                                           url\n",
       "30  31   浙江  http://zw.huatu.com/2018/buweisearch/31.html"
      ]
     },
     "execution_count": 8,
     "metadata": {},
     "output_type": "execute_result"
    }
   ],
   "source": [
    "query_area='浙江'\n",
    "df[df.area==query_area]"
   ]
  },
  {
   "cell_type": "code",
   "execution_count": 9,
   "metadata": {
    "collapsed": false,
    "deletable": true,
    "editable": true
   },
   "outputs": [],
   "source": [
    "url2=df[df.area==query_area].url.values[0]\n",
    "\n",
    "request2 = urllib.request.Request(url2,headers=header)\n",
    "response2 = urllib.request.urlopen(request2).read()\n",
    "content2=BeautifulSoup(response2, 'lxml')\n",
    "\n",
    "tmp2=content2.find_all('table', attrs={'cellspacing':'0','width':'100%'})[0]\n",
    "\n",
    "unit_lis=[] # 存储职位列表\n",
    "for i in tmp2.find_all('a'):\n",
    "    t_url=api+'/2018'+i.get_attribute_list('href')[0][2:]\n",
    "    unit_lis.append([i.get_text().strip(),t_url]) # strip 去除空格\n",
    "\n",
    "unit_df=pd.DataFrame(unit_lis,columns=['unit_name','url'])"
   ]
  },
  {
   "cell_type": "code",
   "execution_count": 13,
   "metadata": {
    "collapsed": false,
    "deletable": true,
    "editable": true,
    "scrolled": false
   },
   "outputs": [
    {
     "data": {
      "text/html": [
       "<div>\n",
       "<style>\n",
       "    .dataframe thead tr:only-child th {\n",
       "        text-align: right;\n",
       "    }\n",
       "\n",
       "    .dataframe thead th {\n",
       "        text-align: left;\n",
       "    }\n",
       "\n",
       "    .dataframe tbody tr th {\n",
       "        vertical-align: top;\n",
       "    }\n",
       "</style>\n",
       "<table border=\"1\" class=\"dataframe\">\n",
       "  <thead>\n",
       "    <tr style=\"text-align: right;\">\n",
       "      <th></th>\n",
       "      <th>unit_name</th>\n",
       "      <th>url</th>\n",
       "    </tr>\n",
       "  </thead>\n",
       "  <tbody>\n",
       "    <tr>\n",
       "      <th>0</th>\n",
       "      <td>国家物资储备局浙江办事处</td>\n",
       "      <td>http://zw.huatu.com/2018/buwei2018/1763.html</td>\n",
       "    </tr>\n",
       "    <tr>\n",
       "      <th>1</th>\n",
       "      <td>浙江海事局</td>\n",
       "      <td>http://zw.huatu.com/2018/buwei2018/2009.html</td>\n",
       "    </tr>\n",
       "    <tr>\n",
       "      <th>2</th>\n",
       "      <td>杭州海关</td>\n",
       "      <td>http://zw.huatu.com/2018/buwei2018/2105.html</td>\n",
       "    </tr>\n",
       "    <tr>\n",
       "      <th>3</th>\n",
       "      <td>宁波海关</td>\n",
       "      <td>http://zw.huatu.com/2018/buwei2018/2107.html</td>\n",
       "    </tr>\n",
       "    <tr>\n",
       "      <th>4</th>\n",
       "      <td>浙江省国家税务局</td>\n",
       "      <td>http://zw.huatu.com/2018/buwei2018/2175.html</td>\n",
       "    </tr>\n",
       "  </tbody>\n",
       "</table>\n",
       "</div>"
      ],
      "text/plain": [
       "      unit_name                                           url\n",
       "0  国家物资储备局浙江办事处  http://zw.huatu.com/2018/buwei2018/1763.html\n",
       "1         浙江海事局  http://zw.huatu.com/2018/buwei2018/2009.html\n",
       "2          杭州海关  http://zw.huatu.com/2018/buwei2018/2105.html\n",
       "3          宁波海关  http://zw.huatu.com/2018/buwei2018/2107.html\n",
       "4      浙江省国家税务局  http://zw.huatu.com/2018/buwei2018/2175.html"
      ]
     },
     "execution_count": 13,
     "metadata": {},
     "output_type": "execute_result"
    }
   ],
   "source": [
    "unit_df.head()"
   ]
  },
  {
   "cell_type": "markdown",
   "metadata": {
    "deletable": true,
    "editable": true
   },
   "source": [
    "### 4 查询所有部门的招聘岗位等详细信息"
   ]
  },
  {
   "cell_type": "code",
   "execution_count": 10,
   "metadata": {
    "collapsed": true,
    "deletable": true,
    "editable": true
   },
   "outputs": [],
   "source": [
    "'''\n",
    "获取岗位详细信息\n",
    "url :\n",
    "    访问路径\n",
    "'''\n",
    "def get_post_metas(url):\n",
    "    tmp_request = urllib.request.Request(url,headers=header)\n",
    "    tmp_response = urllib.request.urlopen(tmp_request).read()\n",
    "    tmp_content=BeautifulSoup(tmp_response, 'lxml')\n",
    "    \n",
    "    td_lis=[i.get_text() for i in tmp_content.find_all('td')]\n",
    "    internal=[]\n",
    "    for i in range(len(td_lis)):\n",
    "        if i%10==0: # 生成间隔区间\n",
    "            internal.append([i,i+10])\n",
    "    \n",
    "    row_lis=[]\n",
    "    for lt,rt in internal: # 根据间隔区间，将数据分行\n",
    "        row_lis.append(td_lis[lt:rt])\n",
    "        \n",
    "    return row_lis\n",
    "\n",
    "post_metas_lis=[]\n",
    "\n",
    "for unit_name,url in unit_lis: # 循环，加工招聘单位所招岗位详细信息\n",
    "    post_metas_lis+=get_post_metas(url)\n",
    "\n",
    "# 将 list 转换为 DataFrame 格式\n",
    "\n",
    "# '部门名称','用人用司','职位名称','要求专业','招考人数','报考人数','历年分数线','历年竞争比','录取概率','对比'\n",
    "post_metas_df=pd.DataFrame(post_metas_lis, columns=['unit_name','employee_unit','post_name','professional','person_num','person_num2','view','view2','detail','compare'])"
   ]
  },
  {
   "cell_type": "code",
   "execution_count": 22,
   "metadata": {
    "collapsed": false
   },
   "outputs": [
    {
     "data": {
      "text/html": [
       "<div>\n",
       "<style>\n",
       "    .dataframe thead tr:only-child th {\n",
       "        text-align: right;\n",
       "    }\n",
       "\n",
       "    .dataframe thead th {\n",
       "        text-align: left;\n",
       "    }\n",
       "\n",
       "    .dataframe tbody tr th {\n",
       "        vertical-align: top;\n",
       "    }\n",
       "</style>\n",
       "<table border=\"1\" class=\"dataframe\">\n",
       "  <thead>\n",
       "    <tr style=\"text-align: right;\">\n",
       "      <th></th>\n",
       "      <th>unit_name</th>\n",
       "      <th>employee_unit</th>\n",
       "      <th>post_name</th>\n",
       "      <th>professional</th>\n",
       "      <th>person_num</th>\n",
       "      <th>person_num2</th>\n",
       "      <th>view</th>\n",
       "      <th>view2</th>\n",
       "      <th>detail</th>\n",
       "      <th>compare</th>\n",
       "    </tr>\n",
       "  </thead>\n",
       "  <tbody>\n",
       "    <tr>\n",
       "      <th>100</th>\n",
       "      <td>浙江省国家税务局</td>\n",
       "      <td>杭州市上城区国家税务局</td>\n",
       "      <td>纳税服务科科员（一）</td>\n",
       "      <td>公共管理类</td>\n",
       "      <td>1</td>\n",
       "      <td>0</td>\n",
       "      <td>查看</td>\n",
       "      <td>查看</td>\n",
       "      <td>详情</td>\n",
       "      <td>对比</td>\n",
       "    </tr>\n",
       "    <tr>\n",
       "      <th>101</th>\n",
       "      <td>浙江省国家税务局</td>\n",
       "      <td>杭州市上城区国家税务局</td>\n",
       "      <td>纳税服务科科员（二）</td>\n",
       "      <td>工商管理类</td>\n",
       "      <td>1</td>\n",
       "      <td>0</td>\n",
       "      <td>查看</td>\n",
       "      <td>查看</td>\n",
       "      <td>详情</td>\n",
       "      <td>对比</td>\n",
       "    </tr>\n",
       "    <tr>\n",
       "      <th>102</th>\n",
       "      <td>浙江省国家税务局</td>\n",
       "      <td>杭州市上城区国家税务局</td>\n",
       "      <td>纳税服务科科员（三）</td>\n",
       "      <td>财政学类</td>\n",
       "      <td>1</td>\n",
       "      <td>0</td>\n",
       "      <td>查看</td>\n",
       "      <td>查看</td>\n",
       "      <td>详情</td>\n",
       "      <td>对比</td>\n",
       "    </tr>\n",
       "  </tbody>\n",
       "</table>\n",
       "</div>"
      ],
      "text/plain": [
       "    unit_name employee_unit   post_name professional person_num person_num2  \\\n",
       "100  浙江省国家税务局   杭州市上城区国家税务局  纳税服务科科员（一）        公共管理类          1           0   \n",
       "101  浙江省国家税务局   杭州市上城区国家税务局  纳税服务科科员（二）        工商管理类          1           0   \n",
       "102  浙江省国家税务局   杭州市上城区国家税务局  纳税服务科科员（三）         财政学类          1           0   \n",
       "\n",
       "    view view2 detail compare  \n",
       "100   查看    查看     详情      对比  \n",
       "101   查看    查看     详情      对比  \n",
       "102   查看    查看     详情      对比  "
      ]
     },
     "execution_count": 22,
     "metadata": {},
     "output_type": "execute_result"
    }
   ],
   "source": [
    "post_metas_df[post_metas_df.unit_name=='浙江省国家税务局'].head(3)"
   ]
  },
  {
   "cell_type": "code",
   "execution_count": 249,
   "metadata": {
    "collapsed": true,
    "deletable": true,
    "editable": true
   },
   "outputs": [],
   "source": [
    "# 保存数据信息\n",
    "\n",
    "post_metas_df.to_csv('./post_metas.csv')"
   ]
  }
 ],
 "metadata": {
  "kernelspec": {
   "display_name": "Python 3",
   "language": "python",
   "name": "python3"
  },
  "language_info": {
   "codemirror_mode": {
    "name": "ipython",
    "version": 3
   },
   "file_extension": ".py",
   "mimetype": "text/x-python",
   "name": "python",
   "nbconvert_exporter": "python",
   "pygments_lexer": "ipython3",
   "version": "3.6.3"
  }
 },
 "nbformat": 4,
 "nbformat_minor": 2
}
