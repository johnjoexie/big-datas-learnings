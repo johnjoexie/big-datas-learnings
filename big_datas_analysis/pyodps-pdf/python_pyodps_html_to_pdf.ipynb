{
 "cells": [
  {
   "cell_type": "markdown",
   "metadata": {},
   "source": [
    "## 爬取 PyODPS[latest] 并转换为 PDF\n",
    "- 爬取主链接\n",
    "- 根据主链接爬取子连接\n",
    "- 参考子链接爬取HTML并转换为PDF\n",
    "- 将所有 PDF 整合为一个PDF\n",
    "---\n",
    "- 注 :\n",
    "    - PyOdps PDF在线最新版本\n",
    "        - 0.3.12"
   ]
  },
  {
   "cell_type": "code",
   "execution_count": 15,
   "metadata": {
    "collapsed": true
   },
   "outputs": [],
   "source": [
    "import re\n",
    "import pdfkit\n",
    "import pandas as pd\n",
    "from urllib import urlopen\n",
    "from bs4 import BeautifulSoup\n",
    "\n",
    "# 设置 pandas 显示参数\n",
    "pd.set_option('display.width',200)\n",
    "pd.set_option('display.max_rows',1000)\n",
    "pd.set_option('display.max_columns',50)\n",
    "pd.set_option('display.max_colwidth',500)"
   ]
  },
  {
   "cell_type": "markdown",
   "metadata": {},
   "source": [
    "### 爬取主链接\n",
    "#### 爬取PyODPS Docs主页面"
   ]
  },
  {
   "cell_type": "code",
   "execution_count": 9,
   "metadata": {
    "collapsed": true
   },
   "outputs": [],
   "source": [
    "url='http://pyodps.readthedocs.io/zh_CN/latest/index.html'\n",
    "html=urlopen(url).read().decode('utf8')\n",
    "soup=BeautifulSoup(html,'lxml')"
   ]
  },
  {
   "cell_type": "markdown",
   "metadata": {},
   "source": [
    "#### 取值最新文档首页 API及标题"
   ]
  },
  {
   "cell_type": "code",
   "execution_count": 10,
   "metadata": {
    "collapsed": true
   },
   "outputs": [],
   "source": [
    "# 主链接 (API)\n",
    "api=soup.find(name='link', attrs={'rel':'canonical'}).get('href')\n",
    "# 获取文档标题\n",
    "title=soup.find('link',attrs={\"href\":\"#\",\"rel\":\"top\"}).get('title').replace(' ','_')\n",
    "\n",
    "# 获取首页超链接 (href)\n",
    "hrefs=[]\n",
    "div_s=soup.find_all(name='div',attrs={'aria-label':'main navigation','role':'navigation'})[0]\n",
    "for tag_a in div_s.find_all(name='a',attrs={'class':'reference internal'}):\n",
    "    content_name=tag_a.get_text()\n",
    "    url=api+tag_a.get('href')\n",
    "    hrefs.append([content_name,url])"
   ]
  },
  {
   "cell_type": "markdown",
   "metadata": {},
   "source": [
    "#### 美化 DataFrame 显示效果函数"
   ]
  },
  {
   "cell_type": "code",
   "execution_count": 20,
   "metadata": {
    "collapsed": true
   },
   "outputs": [],
   "source": [
    "'''\n",
    "设置悬停效果\n",
    "'''\n",
    "def hover(hover_color=\"#ffff99\"):\n",
    "    return dict(selector=\"tr:hover\",\n",
    "                props=[(\"background-color\", \"%s\" % hover_color)])\n",
    "'''\n",
    "美化DataFrame显示效果\n",
    "'''\n",
    "def display_prettify(df):\n",
    "    from IPython.display import HTML\n",
    "\n",
    "    styles = [\n",
    "        hover(),\n",
    "        dict(selector=\"th\", props=[(\"font-size\", \"100%\"),\n",
    "                                   (\"text-align\", \"center\")]),\n",
    "        dict(selector=\"td\", props=[(\"text-align\", \"left\")]),\n",
    "        dict(selector=\"caption\", props=[(\"caption-side\", \"left\")])\n",
    "    ]\n",
    "    return df.style.set_table_styles(styles).set_caption(\"Hover to highlight.\")"
   ]
  },
  {
   "cell_type": "markdown",
   "metadata": {},
   "source": [
    "#### 首页超连接(href)打印显示"
   ]
  },
  {
   "cell_type": "code",
   "execution_count": 13,
   "metadata": {},
   "outputs": [
    {
     "data": {
      "text/html": [
       "<style  type=\"text/css\" >\n",
       "    #T_d14342c0_08c8_11e8_97b2_000c29730229 tr:hover {\n",
       "          background-color: #ffff99;\n",
       "    }    #T_d14342c0_08c8_11e8_97b2_000c29730229 th {\n",
       "          font-size: 100%;\n",
       "          text-align: center;\n",
       "    }    #T_d14342c0_08c8_11e8_97b2_000c29730229 td {\n",
       "          text-align: left;\n",
       "    }    #T_d14342c0_08c8_11e8_97b2_000c29730229 caption {\n",
       "          caption-side: left;\n",
       "    }</style>  \n",
       "<table id=\"T_d14342c0_08c8_11e8_97b2_000c29730229\" ><caption>Hover to highlight.</caption> \n",
       "<thead>    <tr> \n",
       "        <th class=\"blank level0\" ></th> \n",
       "        <th class=\"col_heading level0 col0\" >content_name</th> \n",
       "        <th class=\"col_heading level0 col1\" >href</th> \n",
       "    </tr></thead> \n",
       "<tbody>    <tr> \n",
       "        <th id=\"T_d14342c0_08c8_11e8_97b2_000c29730229\" class=\"row_heading level0 row0\" >0</th> \n",
       "        <td id=\"T_d14342c0_08c8_11e8_97b2_000c29730229row0_col0\" class=\"data row0 col0\" >安装指南</td> \n",
       "        <td id=\"T_d14342c0_08c8_11e8_97b2_000c29730229row0_col1\" class=\"data row0 col1\" >http://pyodps.readthedocs.io/zh_CN/latest/installation-pub-zh.html</td> \n",
       "    </tr>    <tr> \n",
       "        <th id=\"T_d14342c0_08c8_11e8_97b2_000c29730229\" class=\"row_heading level0 row1\" >1</th> \n",
       "        <td id=\"T_d14342c0_08c8_11e8_97b2_000c29730229row1_col0\" class=\"data row1 col0\" >基本操作</td> \n",
       "        <td id=\"T_d14342c0_08c8_11e8_97b2_000c29730229row1_col1\" class=\"data row1 col1\" >http://pyodps.readthedocs.io/zh_CN/latest/base-zh.html</td> \n",
       "    </tr>    <tr> \n",
       "        <th id=\"T_d14342c0_08c8_11e8_97b2_000c29730229\" class=\"row_heading level0 row2\" >2</th> \n",
       "        <td id=\"T_d14342c0_08c8_11e8_97b2_000c29730229row2_col0\" class=\"data row2 col0\" >DataFrame</td> \n",
       "        <td id=\"T_d14342c0_08c8_11e8_97b2_000c29730229row2_col1\" class=\"data row2 col1\" >http://pyodps.readthedocs.io/zh_CN/latest/df-zh.html</td> \n",
       "    </tr>    <tr> \n",
       "        <th id=\"T_d14342c0_08c8_11e8_97b2_000c29730229\" class=\"row_heading level0 row3\" >3</th> \n",
       "        <td id=\"T_d14342c0_08c8_11e8_97b2_000c29730229row3_col0\" class=\"data row3 col0\" >机器学习</td> \n",
       "        <td id=\"T_d14342c0_08c8_11e8_97b2_000c29730229row3_col1\" class=\"data row3 col1\" >http://pyodps.readthedocs.io/zh_CN/latest/ml-zh.html</td> \n",
       "    </tr>    <tr> \n",
       "        <th id=\"T_d14342c0_08c8_11e8_97b2_000c29730229\" class=\"row_heading level0 row4\" >4</th> \n",
       "        <td id=\"T_d14342c0_08c8_11e8_97b2_000c29730229row4_col0\" class=\"data row4 col0\" >交互体验增强</td> \n",
       "        <td id=\"T_d14342c0_08c8_11e8_97b2_000c29730229row4_col1\" class=\"data row4 col1\" >http://pyodps.readthedocs.io/zh_CN/latest/interactive-zh.html</td> \n",
       "    </tr>    <tr> \n",
       "        <th id=\"T_d14342c0_08c8_11e8_97b2_000c29730229\" class=\"row_heading level0 row5\" >5</th> \n",
       "        <td id=\"T_d14342c0_08c8_11e8_97b2_000c29730229row5_col0\" class=\"data row5 col0\" >配置选项</td> \n",
       "        <td id=\"T_d14342c0_08c8_11e8_97b2_000c29730229row5_col1\" class=\"data row5 col1\" >http://pyodps.readthedocs.io/zh_CN/latest/options-zh.html</td> \n",
       "    </tr>    <tr> \n",
       "        <th id=\"T_d14342c0_08c8_11e8_97b2_000c29730229\" class=\"row_heading level0 row6\" >6</th> \n",
       "        <td id=\"T_d14342c0_08c8_11e8_97b2_000c29730229row6_col0\" class=\"data row6 col0\" >API Reference</td> \n",
       "        <td id=\"T_d14342c0_08c8_11e8_97b2_000c29730229row6_col1\" class=\"data row6 col1\" >http://pyodps.readthedocs.io/zh_CN/latest/api.html</td> \n",
       "    </tr></tbody> \n",
       "</table> "
      ],
      "text/plain": [
       "<pandas.io.formats.style.Styler at 0x7fc950324e10>"
      ]
     },
     "execution_count": 13,
     "metadata": {},
     "output_type": "execute_result"
    }
   ],
   "source": [
    "df=pd.DataFrame(hrefs, columns=['content_name','href'])\n",
    "\n",
    "display_prettify(df)"
   ]
  },
  {
   "cell_type": "markdown",
   "metadata": {},
   "source": [
    "### 根据主链接爬取子连接"
   ]
  },
  {
   "cell_type": "code",
   "execution_count": null,
   "metadata": {
    "collapsed": true
   },
   "outputs": [],
   "source": [
    "hrefs_2=[] # 有序列表，存储主、子链接并与文档目录层次结构保持一致性\n",
    "\n",
    "for name,url in hrefs:\n",
    "    if url not in [hf[1] for hf in hrefs_2]: # href 不在 hrefs_2中，则追加\n",
    "        hrefs_2.append([name,url])\n",
    "    t_html=urlopen(url).read().decode('utf8')\n",
    "    \n",
    "    # 根据正则表达式 查找当前目录主题\n",
    "    f_re='<a class=\"current reference internal\".*?</a><ul>(.*?)</ul>'\n",
    "    if len(re.findall(f_re, t_html, re.I|re.S|re.M)) !=0 :\n",
    "        target_s = re.findall(f_re, t_html, re.I|re.S|re.M)[0]\n",
    "\n",
    "        # 根据正则表达式 获取当前子主题链接\n",
    "        t_re='<a class=\"reference internal\" href=\"(.*?)\">(.*?)</a>'\n",
    "        for href,name in re.findall(t_re, target_s, re.I|re.S|re.M):\n",
    "            if href.strip().endswith('.html'):\n",
    "                hrefs_2.append([name,api+href])"
   ]
  },
  {
   "cell_type": "code",
   "execution_count": 22,
   "metadata": {},
   "outputs": [
    {
     "data": {
      "text/html": [
       "<style  type=\"text/css\" >\n",
       "    #T_3c373dac_08ce_11e8_97b2_000c29730229 tr:hover {\n",
       "          background-color: #ffff99;\n",
       "    }    #T_3c373dac_08ce_11e8_97b2_000c29730229 th {\n",
       "          font-size: 100%;\n",
       "          text-align: center;\n",
       "    }    #T_3c373dac_08ce_11e8_97b2_000c29730229 td {\n",
       "          text-align: left;\n",
       "    }    #T_3c373dac_08ce_11e8_97b2_000c29730229 caption {\n",
       "          caption-side: left;\n",
       "    }</style>  \n",
       "<table id=\"T_3c373dac_08ce_11e8_97b2_000c29730229\" ><caption>Hover to highlight.</caption> \n",
       "<thead>    <tr> \n",
       "        <th class=\"blank level0\" ></th> \n",
       "        <th class=\"col_heading level0 col0\" >0</th> \n",
       "        <th class=\"col_heading level0 col1\" >1</th> \n",
       "    </tr></thead> \n",
       "<tbody>    <tr> \n",
       "        <th id=\"T_3c373dac_08ce_11e8_97b2_000c29730229\" class=\"row_heading level0 row0\" >0</th> \n",
       "        <td id=\"T_3c373dac_08ce_11e8_97b2_000c29730229row0_col0\" class=\"data row0 col0\" >安装指南</td> \n",
       "        <td id=\"T_3c373dac_08ce_11e8_97b2_000c29730229row0_col1\" class=\"data row0 col1\" >http://pyodps.readthedocs.io/zh_CN/latest/installation-pub-zh.html</td> \n",
       "    </tr>    <tr> \n",
       "        <th id=\"T_3c373dac_08ce_11e8_97b2_000c29730229\" class=\"row_heading level0 row1\" >1</th> \n",
       "        <td id=\"T_3c373dac_08ce_11e8_97b2_000c29730229row1_col0\" class=\"data row1 col0\" >基本操作</td> \n",
       "        <td id=\"T_3c373dac_08ce_11e8_97b2_000c29730229row1_col1\" class=\"data row1 col1\" >http://pyodps.readthedocs.io/zh_CN/latest/base-zh.html</td> \n",
       "    </tr></tbody> \n",
       "</table> "
      ],
      "text/plain": [
       "<pandas.io.formats.style.Styler at 0x7fc94dab0ed0>"
      ]
     },
     "execution_count": 22,
     "metadata": {},
     "output_type": "execute_result"
    }
   ],
   "source": [
    "display_prettify(pd.DataFrame(hrefs_2))"
   ]
  },
  {
   "cell_type": "markdown",
   "metadata": {},
   "source": [
    "#### 显示PyODPS 所有链接"
   ]
  },
  {
   "cell_type": "code",
   "execution_count": 105,
   "metadata": {},
   "outputs": [
    {
     "data": {
      "text/html": [
       "<div>\n",
       "<style>\n",
       "    .dataframe thead tr:only-child th {\n",
       "        text-align: right;\n",
       "    }\n",
       "\n",
       "    .dataframe thead th {\n",
       "        text-align: left;\n",
       "    }\n",
       "\n",
       "    .dataframe tbody tr th {\n",
       "        vertical-align: top;\n",
       "    }\n",
       "</style>\n",
       "<table border=\"1\" class=\"dataframe\">\n",
       "  <thead>\n",
       "    <tr style=\"text-align: right;\">\n",
       "      <th></th>\n",
       "      <th>0</th>\n",
       "      <th>1</th>\n",
       "    </tr>\n",
       "  </thead>\n",
       "  <tbody>\n",
       "    <tr>\n",
       "      <th>0</th>\n",
       "      <td>安装指南</td>\n",
       "      <td>http://pyodps.readthedocs.io/zh_CN/latest/installation-pub-zh.html</td>\n",
       "    </tr>\n",
       "    <tr>\n",
       "      <th>1</th>\n",
       "      <td>基本操作</td>\n",
       "      <td>http://pyodps.readthedocs.io/zh_CN/latest/base-zh.html</td>\n",
       "    </tr>\n",
       "    <tr>\n",
       "      <th>2</th>\n",
       "      <td>项目空间</td>\n",
       "      <td>http://pyodps.readthedocs.io/zh_CN/latest/base-projects-zh.html</td>\n",
       "    </tr>\n",
       "    <tr>\n",
       "      <th>3</th>\n",
       "      <td>表</td>\n",
       "      <td>http://pyodps.readthedocs.io/zh_CN/latest/base-tables-zh.html</td>\n",
       "    </tr>\n",
       "    <tr>\n",
       "      <th>4</th>\n",
       "      <td>SQL</td>\n",
       "      <td>http://pyodps.readthedocs.io/zh_CN/latest/base-sql-zh.html</td>\n",
       "    </tr>\n",
       "    <tr>\n",
       "      <th>5</th>\n",
       "      <td>任务实例</td>\n",
       "      <td>http://pyodps.readthedocs.io/zh_CN/latest/base-instances-zh.html</td>\n",
       "    </tr>\n",
       "    <tr>\n",
       "      <th>6</th>\n",
       "      <td>资源</td>\n",
       "      <td>http://pyodps.readthedocs.io/zh_CN/latest/base-resources-zh.html</td>\n",
       "    </tr>\n",
       "    <tr>\n",
       "      <th>7</th>\n",
       "      <td>函数</td>\n",
       "      <td>http://pyodps.readthedocs.io/zh_CN/latest/base-functions-zh.html</td>\n",
       "    </tr>\n",
       "    <tr>\n",
       "      <th>8</th>\n",
       "      <td>模型</td>\n",
       "      <td>http://pyodps.readthedocs.io/zh_CN/latest/base-models-zh.html</td>\n",
       "    </tr>\n",
       "    <tr>\n",
       "      <th>9</th>\n",
       "      <td>DataFrame</td>\n",
       "      <td>http://pyodps.readthedocs.io/zh_CN/latest/df-zh.html</td>\n",
       "    </tr>\n",
       "    <tr>\n",
       "      <th>10</th>\n",
       "      <td>快速开始</td>\n",
       "      <td>http://pyodps.readthedocs.io/zh_CN/latest/df-quickstart-zh.html</td>\n",
       "    </tr>\n",
       "    <tr>\n",
       "      <th>11</th>\n",
       "      <td>基本概念</td>\n",
       "      <td>http://pyodps.readthedocs.io/zh_CN/latest/df-basic-zh.html</td>\n",
       "    </tr>\n",
       "    <tr>\n",
       "      <th>12</th>\n",
       "      <td>列运算</td>\n",
       "      <td>http://pyodps.readthedocs.io/zh_CN/latest/df-element-zh.html</td>\n",
       "    </tr>\n",
       "    <tr>\n",
       "      <th>13</th>\n",
       "      <td>聚合操作</td>\n",
       "      <td>http://pyodps.readthedocs.io/zh_CN/latest/df-agg-zh.html</td>\n",
       "    </tr>\n",
       "    <tr>\n",
       "      <th>14</th>\n",
       "      <td>排序、去重、采样、数据变换</td>\n",
       "      <td>http://pyodps.readthedocs.io/zh_CN/latest/df-sort-distinct-apply-zh.html</td>\n",
       "    </tr>\n",
       "    <tr>\n",
       "      <th>15</th>\n",
       "      <td>数据合并</td>\n",
       "      <td>http://pyodps.readthedocs.io/zh_CN/latest/df-merge-zh.html</td>\n",
       "    </tr>\n",
       "    <tr>\n",
       "      <th>16</th>\n",
       "      <td>窗口函数</td>\n",
       "      <td>http://pyodps.readthedocs.io/zh_CN/latest/df-window-zh.html</td>\n",
       "    </tr>\n",
       "    <tr>\n",
       "      <th>17</th>\n",
       "      <td>绘图</td>\n",
       "      <td>http://pyodps.readthedocs.io/zh_CN/latest/df-plot-zh.html</td>\n",
       "    </tr>\n",
       "    <tr>\n",
       "      <th>18</th>\n",
       "      <td>调试指南</td>\n",
       "      <td>http://pyodps.readthedocs.io/zh_CN/latest/df-debug-instruction-zh.html</td>\n",
       "    </tr>\n",
       "    <tr>\n",
       "      <th>19</th>\n",
       "      <td>机器学习</td>\n",
       "      <td>http://pyodps.readthedocs.io/zh_CN/latest/ml-zh.html</td>\n",
       "    </tr>\n",
       "    <tr>\n",
       "      <th>20</th>\n",
       "      <td>快速开始</td>\n",
       "      <td>http://pyodps.readthedocs.io/zh_CN/latest/ml-quickstart-zh.html</td>\n",
       "    </tr>\n",
       "    <tr>\n",
       "      <th>21</th>\n",
       "      <td>基本概念</td>\n",
       "      <td>http://pyodps.readthedocs.io/zh_CN/latest/ml-basic-zh.html</td>\n",
       "    </tr>\n",
       "    <tr>\n",
       "      <th>22</th>\n",
       "      <td>调用算法</td>\n",
       "      <td>http://pyodps.readthedocs.io/zh_CN/latest/ml-algo-pub-zh.html</td>\n",
       "    </tr>\n",
       "    <tr>\n",
       "      <th>23</th>\n",
       "      <td>结果评估</td>\n",
       "      <td>http://pyodps.readthedocs.io/zh_CN/latest/ml-assess-zh.html</td>\n",
       "    </tr>\n",
       "    <tr>\n",
       "      <th>24</th>\n",
       "      <td>交互体验增强</td>\n",
       "      <td>http://pyodps.readthedocs.io/zh_CN/latest/interactive-zh.html</td>\n",
       "    </tr>\n",
       "    <tr>\n",
       "      <th>25</th>\n",
       "      <td>配置选项</td>\n",
       "      <td>http://pyodps.readthedocs.io/zh_CN/latest/options-zh.html</td>\n",
       "    </tr>\n",
       "    <tr>\n",
       "      <th>26</th>\n",
       "      <td>API Reference</td>\n",
       "      <td>http://pyodps.readthedocs.io/zh_CN/latest/api.html</td>\n",
       "    </tr>\n",
       "    <tr>\n",
       "      <th>27</th>\n",
       "      <td>Definitions</td>\n",
       "      <td>http://pyodps.readthedocs.io/zh_CN/latest/api-def.html</td>\n",
       "    </tr>\n",
       "    <tr>\n",
       "      <th>28</th>\n",
       "      <td>DataFrame Reference</td>\n",
       "      <td>http://pyodps.readthedocs.io/zh_CN/latest/api-df.html</td>\n",
       "    </tr>\n",
       "    <tr>\n",
       "      <th>29</th>\n",
       "      <td>ML References</td>\n",
       "      <td>http://pyodps.readthedocs.io/zh_CN/latest/api-ml.html</td>\n",
       "    </tr>\n",
       "  </tbody>\n",
       "</table>\n",
       "</div>"
      ],
      "text/plain": [
       "                      0                                                                         1\n",
       "0                  安装指南        http://pyodps.readthedocs.io/zh_CN/latest/installation-pub-zh.html\n",
       "1                  基本操作                    http://pyodps.readthedocs.io/zh_CN/latest/base-zh.html\n",
       "2                  项目空间           http://pyodps.readthedocs.io/zh_CN/latest/base-projects-zh.html\n",
       "3                     表             http://pyodps.readthedocs.io/zh_CN/latest/base-tables-zh.html\n",
       "4                   SQL                http://pyodps.readthedocs.io/zh_CN/latest/base-sql-zh.html\n",
       "5                  任务实例          http://pyodps.readthedocs.io/zh_CN/latest/base-instances-zh.html\n",
       "6                    资源          http://pyodps.readthedocs.io/zh_CN/latest/base-resources-zh.html\n",
       "7                    函数          http://pyodps.readthedocs.io/zh_CN/latest/base-functions-zh.html\n",
       "8                    模型             http://pyodps.readthedocs.io/zh_CN/latest/base-models-zh.html\n",
       "9             DataFrame                      http://pyodps.readthedocs.io/zh_CN/latest/df-zh.html\n",
       "10                 快速开始           http://pyodps.readthedocs.io/zh_CN/latest/df-quickstart-zh.html\n",
       "11                 基本概念                http://pyodps.readthedocs.io/zh_CN/latest/df-basic-zh.html\n",
       "12                  列运算              http://pyodps.readthedocs.io/zh_CN/latest/df-element-zh.html\n",
       "13                 聚合操作                  http://pyodps.readthedocs.io/zh_CN/latest/df-agg-zh.html\n",
       "14        排序、去重、采样、数据变换  http://pyodps.readthedocs.io/zh_CN/latest/df-sort-distinct-apply-zh.html\n",
       "15                 数据合并                http://pyodps.readthedocs.io/zh_CN/latest/df-merge-zh.html\n",
       "16                 窗口函数               http://pyodps.readthedocs.io/zh_CN/latest/df-window-zh.html\n",
       "17                   绘图                 http://pyodps.readthedocs.io/zh_CN/latest/df-plot-zh.html\n",
       "18                 调试指南    http://pyodps.readthedocs.io/zh_CN/latest/df-debug-instruction-zh.html\n",
       "19                 机器学习                      http://pyodps.readthedocs.io/zh_CN/latest/ml-zh.html\n",
       "20                 快速开始           http://pyodps.readthedocs.io/zh_CN/latest/ml-quickstart-zh.html\n",
       "21                 基本概念                http://pyodps.readthedocs.io/zh_CN/latest/ml-basic-zh.html\n",
       "22                 调用算法             http://pyodps.readthedocs.io/zh_CN/latest/ml-algo-pub-zh.html\n",
       "23                 结果评估               http://pyodps.readthedocs.io/zh_CN/latest/ml-assess-zh.html\n",
       "24               交互体验增强             http://pyodps.readthedocs.io/zh_CN/latest/interactive-zh.html\n",
       "25                 配置选项                 http://pyodps.readthedocs.io/zh_CN/latest/options-zh.html\n",
       "26        API Reference                        http://pyodps.readthedocs.io/zh_CN/latest/api.html\n",
       "27          Definitions                    http://pyodps.readthedocs.io/zh_CN/latest/api-def.html\n",
       "28  DataFrame Reference                     http://pyodps.readthedocs.io/zh_CN/latest/api-df.html\n",
       "29        ML References                     http://pyodps.readthedocs.io/zh_CN/latest/api-ml.html"
      ]
     },
     "execution_count": 105,
     "metadata": {},
     "output_type": "execute_result"
    }
   ],
   "source": [
    "pd.DataFrame(hrefs_2)"
   ]
  },
  {
   "cell_type": "markdown",
   "metadata": {
    "code_folding": []
   },
   "source": [
    "### 参考子链接爬取HTML并转换为PDF"
   ]
  },
  {
   "cell_type": "code",
   "execution_count": 24,
   "metadata": {},
   "outputs": [
    {
     "name": "stdout",
     "output_type": "stream",
     "text": [
      "Loading pages (1/6)\n",
      "QFont::setPixelSize: Pixel size <= 0 (0)                     ] 35%\n",
      "Counting pages (2/6)                                               \n",
      "Resolving links (4/6)                                                       \n",
      "Loading headers and footers (5/6)                                           \n",
      "Printing pages (6/6)\n",
      "Done                                                                      \n",
      "Loading pages (1/6)\n",
      "QFont::setPixelSize: Pixel size <= 0 (0)                     ] 26%\n",
      "Counting pages (2/6)                                               \n",
      "Resolving links (4/6)                                                       \n",
      "Loading headers and footers (5/6)                                           \n",
      "Printing pages (6/6)\n",
      "Done                                                                      \n"
     ]
    }
   ],
   "source": [
    "for name,href in hrefs_2:\n",
    "    pdfkit.from_url(href,'./tmp/'+name+'.pdf')"
   ]
  },
  {
   "cell_type": "markdown",
   "metadata": {},
   "source": [
    "### 整合所有 PDF"
   ]
  },
  {
   "cell_type": "code",
   "execution_count": 114,
   "metadata": {
    "collapsed": true
   },
   "outputs": [],
   "source": [
    "from PyPDF2 import PdfFileMerger\n",
    "\n",
    "# 创建 PdfFileMerger 对象，合并PDFs\n",
    "merger = PdfFileMerger()\n",
    "for name, url in hrefs_2:\n",
    "    t_input = open('./tmp/'+name+'.pdf', 'rb')\n",
    "    merger.append(t_input)\n",
    "\n",
    "# 流输出\n",
    "output = open(title+\".pdf\", \"wb\")\n",
    "merger.write(output)\n",
    "\n",
    "# 关闭文件流\n",
    "output.close()\n",
    "merger.close()"
   ]
  }
 ],
 "metadata": {
  "kernelspec": {
   "display_name": "Python 2",
   "language": "python",
   "name": "python2"
  },
  "language_info": {
   "codemirror_mode": {
    "name": "ipython",
    "version": 2
   },
   "file_extension": ".py",
   "mimetype": "text/x-python",
   "name": "python",
   "nbconvert_exporter": "python",
   "pygments_lexer": "ipython2",
   "version": "2.7.13"
  },
  "toc": {
   "nav_menu": {},
   "number_sections": true,
   "sideBar": true,
   "skip_h1_title": false,
   "toc_cell": false,
   "toc_position": {
    "height": "454px",
    "left": "0px",
    "right": "745.925px",
    "top": "107px",
    "width": "290px"
   },
   "toc_section_display": "block",
   "toc_window_display": true
  }
 },
 "nbformat": 4,
 "nbformat_minor": 2
}
