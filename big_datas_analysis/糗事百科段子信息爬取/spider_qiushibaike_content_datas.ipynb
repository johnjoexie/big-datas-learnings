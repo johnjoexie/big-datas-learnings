{
 "cells": [
  {
   "cell_type": "markdown",
   "metadata": {},
   "source": [
    "### 爬取 糗事百科段子 内容数据\n",
    "---\n",
    "- author：\n",
    "    - kngines\n",
    "- date：\n",
    "    - 20180118"
   ]
  },
  {
   "cell_type": "code",
   "execution_count": 1,
   "metadata": {
    "collapsed": false
   },
   "outputs": [],
   "source": [
    "import re\n",
    "import urllib\n",
    "import bs4\n",
    "import pandas as pd\n",
    "from bs4 import BeautifulSoup\n",
    "\n",
    "page = 1 # 第 1 页\n",
    "\n",
    "url = 'http://www.qiushibaike.com/hot/page/' + str(page)\n",
    "header={'User-Agent':'Mozilla/5.0 (Windows NT 6.1; WOW64) AppleWebKit/537.36 (KHTML, like Gecko) Chrome/63.0.3236.0 Safari/537.36'}\n",
    "request = urllib.request.Request(url,headers=header)\n",
    "response = urllib.request.urlopen(request).read()\n",
    "\n",
    "content=BeautifulSoup(response, 'lxml')\n",
    "\n",
    "'''\n",
    "1 获取段子内容\n",
    "'''\n",
    "divs = content.find_all('div', class_='content')\n",
    "content_lis=[]\n",
    "for div in divs:\n",
    "    content_lis.append(div.span.get_text())\n",
    "\n",
    "'''\n",
    "2 获取用户昵称\n",
    "''' \n",
    "tmp=content.find_all('div', class_='col1')[0]\n",
    "nick_name_lis=[]\n",
    "for nick_name in tmp.find_all('h2'):\n",
    "    nick_name_lis.append(nick_name.get_text())\n",
    "\n",
    "'''\n",
    "3 获取好笑、评论数量\n",
    "'''\n",
    "counter=0\n",
    "funny_lis=[]\n",
    "comment_lis=[]\n",
    "for cofu in content.find_all('i', class_='number'):\n",
    "    counter+=1\n",
    "    if counter%2!=0:\n",
    "        funny_lis.append(cofu.get_text())\n",
    "    else :\n",
    "        comment_lis.append(cofu.get_text())       "
   ]
  },
  {
   "cell_type": "markdown",
   "metadata": {},
   "source": [
    "### 1 当前页码信息\n",
    "- 第 1 页\n",
    "    - 通过简单调整，可以实现批量爬取数据"
   ]
  },
  {
   "cell_type": "code",
   "execution_count": 2,
   "metadata": {
    "collapsed": false
   },
   "outputs": [
    {
     "name": "stdout",
     "output_type": "stream",
     "text": [
      "\u001b[1;31m[24H] current page:\u001b[0m \u001b[0;30;43m1\u001b[0m\n"
     ]
    }
   ],
   "source": [
    "current_page=content.find_all('ul',class_='pagination')[0].find_all('span',class_='current')[0].get_text()\n",
    "print ('\\033[1;31m[24H] current page:\\033[0m \\033[0;30;43m%s\\033[0m' % (current_page.replace('\\n','')))"
   ]
  },
  {
   "cell_type": "markdown",
   "metadata": {},
   "source": [
    "### 2 转换[DataFrame]并显示"
   ]
  },
  {
   "cell_type": "code",
   "execution_count": 3,
   "metadata": {
    "collapsed": false
   },
   "outputs": [],
   "source": [
    "tdf=pd.DataFrame([nick_name_lis,content_lis,funny_lis,comment_lis])\n",
    "df=tdf.T\n",
    "df.columns=['nick_name','content','funny_cnt','comment_cnt']"
   ]
  },
  {
   "cell_type": "code",
   "execution_count": 4,
   "metadata": {
    "collapsed": false
   },
   "outputs": [
    {
     "data": {
      "text/html": [
       "<div>\n",
       "<style>\n",
       "    .dataframe thead tr:only-child th {\n",
       "        text-align: right;\n",
       "    }\n",
       "\n",
       "    .dataframe thead th {\n",
       "        text-align: left;\n",
       "    }\n",
       "\n",
       "    .dataframe tbody tr th {\n",
       "        vertical-align: top;\n",
       "    }\n",
       "</style>\n",
       "<table border=\"1\" class=\"dataframe\">\n",
       "  <thead>\n",
       "    <tr style=\"text-align: right;\">\n",
       "      <th></th>\n",
       "      <th>nick_name</th>\n",
       "      <th>content</th>\n",
       "      <th>funny_cnt</th>\n",
       "      <th>comment_cnt</th>\n",
       "    </tr>\n",
       "  </thead>\n",
       "  <tbody>\n",
       "    <tr>\n",
       "      <th>0</th>\n",
       "      <td>\\n我家熊孩子不熊\\n</td>\n",
       "      <td>\\n\\n\\n九月份闺蜜来我家吃晚饭。她在用减肥瘦瘦包，这个3600块钱的瘦瘦包要求三个月内晚...</td>\n",
       "      <td>758</td>\n",
       "      <td>56</td>\n",
       "    </tr>\n",
       "    <tr>\n",
       "      <th>1</th>\n",
       "      <td>\\n道士下山会女神\\n</td>\n",
       "      <td>\\n\\n\\n银行办点事，小侄跟着去玩，见大堂圣诞树上挂满红包，小孩好奇心重，便挨个去拆开看，...</td>\n",
       "      <td>807</td>\n",
       "      <td>11</td>\n",
       "    </tr>\n",
       "    <tr>\n",
       "      <th>2</th>\n",
       "      <td>\\n阿丹阿乐\\n</td>\n",
       "      <td>\\n\\n\\n今天我去医院，遇到一位女士，机缘巧合比较聊得来，她说她是来做人工授精的。刚好我是...</td>\n",
       "      <td>1457</td>\n",
       "      <td>28</td>\n",
       "    </tr>\n",
       "  </tbody>\n",
       "</table>\n",
       "</div>"
      ],
      "text/plain": [
       "     nick_name                                            content funny_cnt  \\\n",
       "0  \\n我家熊孩子不熊\\n  \\n\\n\\n九月份闺蜜来我家吃晚饭。她在用减肥瘦瘦包，这个3600块钱的瘦瘦包要求三个月内晚...       758   \n",
       "1  \\n道士下山会女神\\n  \\n\\n\\n银行办点事，小侄跟着去玩，见大堂圣诞树上挂满红包，小孩好奇心重，便挨个去拆开看，...       807   \n",
       "2     \\n阿丹阿乐\\n  \\n\\n\\n今天我去医院，遇到一位女士，机缘巧合比较聊得来，她说她是来做人工授精的。刚好我是...      1457   \n",
       "\n",
       "  comment_cnt  \n",
       "0          56  \n",
       "1          11  \n",
       "2          28  "
      ]
     },
     "execution_count": 4,
     "metadata": {},
     "output_type": "execute_result"
    }
   ],
   "source": [
    "df.head(3)"
   ]
  },
  {
   "cell_type": "markdown",
   "metadata": {},
   "source": [
    "### 3 格式化显示数据"
   ]
  },
  {
   "cell_type": "code",
   "execution_count": 5,
   "metadata": {
    "collapsed": false
   },
   "outputs": [],
   "source": [
    "pd.set_option('display.width',200)\n",
    "pd.set_option('display.max_columns',20)\n",
    "pd.set_option('display.max_rows',50)\n",
    "pd.set_option('display.max_colwidth',200)"
   ]
  },
  {
   "cell_type": "code",
   "execution_count": 6,
   "metadata": {
    "collapsed": false,
    "scrolled": true
   },
   "outputs": [
    {
     "data": {
      "text/html": [
       "<div>\n",
       "<style>\n",
       "    .dataframe thead tr:only-child th {\n",
       "        text-align: right;\n",
       "    }\n",
       "\n",
       "    .dataframe thead th {\n",
       "        text-align: left;\n",
       "    }\n",
       "\n",
       "    .dataframe tbody tr th {\n",
       "        vertical-align: top;\n",
       "    }\n",
       "</style>\n",
       "<table border=\"1\" class=\"dataframe\">\n",
       "  <thead>\n",
       "    <tr style=\"text-align: right;\">\n",
       "      <th></th>\n",
       "      <th>nick_name</th>\n",
       "      <th>content</th>\n",
       "      <th>funny_cnt</th>\n",
       "      <th>comment_cnt</th>\n",
       "    </tr>\n",
       "  </thead>\n",
       "  <tbody>\n",
       "    <tr>\n",
       "      <th>0</th>\n",
       "      <td>\\n我家熊孩子不熊\\n</td>\n",
       "      <td>\\n\\n\\n九月份闺蜜来我家吃晚饭。她在用减肥瘦瘦包，这个3600块钱的瘦瘦包要求三个月内晚餐不能吃米饭，不能喝水，不能吃任何荤菜和水果……我说，如果是这样子的话，我不用任何药可以瘦成闪电。闺蜜：不不不，我不行，必须靠药物。三个月过去了，现在的她比原来还胖了10斤，她说是自己没忍住吃了几次晚餐……这货的智商是不是都被脂肪吞噬了！[捂脸][捂脸][捂脸]\\n\\n</td>\n",
       "      <td>758</td>\n",
       "      <td>56</td>\n",
       "    </tr>\n",
       "    <tr>\n",
       "      <th>1</th>\n",
       "      <td>\\n道士下山会女神\\n</td>\n",
       "      <td>\\n\\n\\n银行办点事，小侄跟着去玩，见大堂圣诞树上挂满红包，小孩好奇心重，便挨个去拆开看，结果一无所获，小孩失望的念叨：还大银行，都特么骗人。于是又去摘了个小布娃娃，大堂美女上去阻止，小屁孩居然说：亲我一下我就放回去，来都来了总不能让我空手回去吧！！\\n\\n</td>\n",
       "      <td>807</td>\n",
       "      <td>11</td>\n",
       "    </tr>\n",
       "    <tr>\n",
       "      <th>2</th>\n",
       "      <td>\\n阿丹阿乐\\n</td>\n",
       "      <td>\\n\\n\\n今天我去医院，遇到一位女士，机缘巧合比较聊得来，她说她是来做人工授精的。刚好我是去捐精的，于是我们决定省略中间环节，直接离开医院到她住的地方来了。情况就是这样，我真的没有骗人啊警官！\\n\\n</td>\n",
       "      <td>1457</td>\n",
       "      <td>28</td>\n",
       "    </tr>\n",
       "  </tbody>\n",
       "</table>\n",
       "</div>"
      ],
      "text/plain": [
       "     nick_name                                                                                                                                                                                content  \\\n",
       "0  \\n我家熊孩子不熊\\n  \\n\\n\\n九月份闺蜜来我家吃晚饭。她在用减肥瘦瘦包，这个3600块钱的瘦瘦包要求三个月内晚餐不能吃米饭，不能喝水，不能吃任何荤菜和水果……我说，如果是这样子的话，我不用任何药可以瘦成闪电。闺蜜：不不不，我不行，必须靠药物。三个月过去了，现在的她比原来还胖了10斤，她说是自己没忍住吃了几次晚餐……这货的智商是不是都被脂肪吞噬了！[捂脸][捂脸][捂脸]\\n\\n   \n",
       "1  \\n道士下山会女神\\n                                                     \\n\\n\\n银行办点事，小侄跟着去玩，见大堂圣诞树上挂满红包，小孩好奇心重，便挨个去拆开看，结果一无所获，小孩失望的念叨：还大银行，都特么骗人。于是又去摘了个小布娃娃，大堂美女上去阻止，小屁孩居然说：亲我一下我就放回去，来都来了总不能让我空手回去吧！！\\n\\n   \n",
       "2     \\n阿丹阿乐\\n                                                                                  \\n\\n\\n今天我去医院，遇到一位女士，机缘巧合比较聊得来，她说她是来做人工授精的。刚好我是去捐精的，于是我们决定省略中间环节，直接离开医院到她住的地方来了。情况就是这样，我真的没有骗人啊警官！\\n\\n   \n",
       "\n",
       "  funny_cnt comment_cnt  \n",
       "0       758          56  \n",
       "1       807          11  \n",
       "2      1457          28  "
      ]
     },
     "execution_count": 6,
     "metadata": {},
     "output_type": "execute_result"
    }
   ],
   "source": [
    "df.head(3)"
   ]
  },
  {
   "cell_type": "code",
   "execution_count": null,
   "metadata": {
    "collapsed": true
   },
   "outputs": [],
   "source": [
    "import re\n",
    "import urllib\n",
    "import bs4\n",
    "import pandas as pd\n",
    "from bs4 import BeautifulSoup\n",
    "\n",
    "page = 1 # 第 1 页\n",
    "\n",
    "url = 'http://www.qiushibaike.com/hot/page/' + str(page)\n",
    "header={'User-Agent':'Mozilla/5.0 (Windows NT 6.1; WOW64) AppleWebKit/537.36 (KHTML, like Gecko) Chrome/63.0.3236.0 Safari/537.36'}\n",
    "request = urllib.request.Request(url,headers=header)\n",
    "response = urllib.request.urlopen(request).read()\n",
    "\n",
    "content=BeautifulSoup(response, 'lxml')\n",
    "\n",
    "'''\n",
    "1 获取段子内容\n",
    "'''\n",
    "divs = content.find_all('div', class_='content')\n",
    "content_lis=[]\n",
    "for div in divs:\n",
    "    content_lis.append(div.span.get_text())\n",
    "\n",
    "'''\n",
    "2 获取用户昵称\n",
    "''' \n",
    "tmp=content.find_all('div', class_='col1')[0]\n",
    "nick_name_lis=[]\n",
    "for nick_name in tmp.find_all('h2'):\n",
    "    nick_name_lis.append(nick_name.get_text())\n",
    "\n",
    "'''\n",
    "3 获取好笑、评论数量\n",
    "'''\n",
    "counter=0\n",
    "funny_lis=[]\n",
    "comment_lis=[]\n",
    "for cofu in content.find_all('i', class_='number'):\n",
    "    counter+=1\n",
    "    if counter%2!=0:\n",
    "        funny_lis.append(cofu.get_text())\n",
    "    else :\n",
    "        comment_lis.append(cofu.get_text())  \n",
    "\n",
    "'''\n",
    "4 打印当前页\n",
    "'''\n",
    "current_page=content.find_all('ul',class_='pagination')[0].find_all('span',class_='current')[0].get_text()\n",
    "print ('\\033[1;31m[24H] current page:\\033[0m \\033[0;30;43m%s\\033[0m' % (current_page.replace('\\n','')))\n",
    "\n",
    "'''\n",
    "5 转换为 DF并显示\n",
    "'''\n",
    "tdf=pd.DataFrame([nick_name_lis,content_lis,funny_lis,comment_lis])\n",
    "df=tdf.T\n",
    "df.columns=['nick_name','content','funny_cnt','comment_cnt']\n",
    "df.head(3)"
   ]
  }
 ],
 "metadata": {
  "kernelspec": {
   "display_name": "Python 3",
   "language": "python",
   "name": "python3"
  },
  "language_info": {
   "codemirror_mode": {
    "name": "ipython",
    "version": 3
   },
   "file_extension": ".py",
   "mimetype": "text/x-python",
   "name": "python",
   "nbconvert_exporter": "python",
   "pygments_lexer": "ipython3",
   "version": "3.6.3"
  }
 },
 "nbformat": 4,
 "nbformat_minor": 2
}
