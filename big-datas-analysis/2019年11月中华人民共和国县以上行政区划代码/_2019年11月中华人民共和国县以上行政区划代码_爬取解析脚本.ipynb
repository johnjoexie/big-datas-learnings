{
 "cells": [
  {
   "cell_type": "markdown",
   "metadata": {
    "ExecuteTime": {
     "end_time": "2020-02-07T13:50:25.920795Z",
     "start_time": "2020-02-07T13:50:25.912756Z"
    }
   },
   "source": [
    "### 2019年11月中华人民共和国县以上行政区划代码\n",
    "- http://www.mca.gov.cn/article/sj/xzqh/2019/2019/201912251506.html\n",
    "---\n",
    "### 目标任务\n",
    "- 产出结果1\n",
    "    - 省编码/ 市编码/ 省名称/ 市名称\n",
    "- 产出结果2\n",
    "    - 省编码/ 市编码/ 区县编码/ 省名称/ 市名称/ 区县名称"
   ]
  },
  {
   "cell_type": "code",
   "execution_count": null,
   "metadata": {},
   "outputs": [],
   "source": [
    "<tr height=19 style='mso-height-source:userset;height:14.25pt'>\n",
    "<td height=19 class=xl6528029 style='height:14.25pt'></td>\n",
    "<td class=xl7028029>110000</td>\n",
    "<td class=xl7028029>北京市</td>\n",
    "</tr>\n",
    "<tr height=19 style='mso-height-source:userset;height:14.25pt'>\n",
    "<td height=19 class=xl6528029 style='height:14.25pt'></td>\n",
    "<td class=xl7128029>110101</td>\n",
    "<td class=xl7128029><span style='mso-spacerun:yes'>   </span>东城区</td>\n",
    "</tr>"
   ]
  },
  {
   "cell_type": "markdown",
   "metadata": {},
   "source": [
    "## 产出结果1\n",
    "### 解析 html && 结果合并"
   ]
  },
  {
   "cell_type": "code",
   "execution_count": 3,
   "metadata": {
    "ExecuteTime": {
     "end_time": "2020-02-10T13:45:17.298686Z",
     "start_time": "2020-02-10T13:45:12.497506Z"
    }
   },
   "outputs": [
    {
     "name": "stdout",
     "output_type": "stream",
     "text": [
      "xzqh_html_status_code: 200\n"
     ]
    }
   ],
   "source": [
    "import requests\n",
    "import warnings\n",
    "import pandas as pd\n",
    "from bs4 import BeautifulSoup\n",
    "warnings.filterwarnings('ignore')\n",
    "pd.set_option('display.max_rows',5000)\n",
    "\n",
    "xzqh_html = requests.get('http://www.mca.gov.cn/article/sj/xzqh/2019/2019/201912251506.html')\n",
    "print(\"xzqh_html_status_code: \" + str(xzqh_html.status_code))\n",
    "soup = BeautifulSoup(xzqh_html.text, 'html.parser')\n",
    "\n",
    "xzqh_codes = []\n",
    "xzqh_names = []\n",
    "\n",
    "for sp in soup.find_all(attrs={\"class\" : \"xl7028029\"}):\n",
    "    ts = sp.getText().strip()\n",
    "    if ts.isdigit():\n",
    "        xzqh_codes.append(ts)\n",
    "    else :\n",
    "        xzqh_names.append(ts)\n",
    "        \n",
    "xzqh_code_names = [ [xzqh_code, xzqh_name] for xzqh_code, xzqh_name in zip(xzqh_codes, xzqh_names) ]"
   ]
  },
  {
   "cell_type": "markdown",
   "metadata": {},
   "source": [
    "### 截至2017年12月31日，中国有34个省级行政区，包括23个省、5个自治区、4个直辖市、2个特别行政区。\n",
    "- 23个省：河北省、山西省、辽宁省、吉林省、黑龙江省、江苏省、浙江省、安徽省、福建省、江西省、山东省、河南省、湖北省、湖南省、广东省、海南省、四川省、贵州省、云南省、陕西省、甘肃省、青海省、台湾省。\n",
    "- 5个自治区：内蒙古自治区、广西壮族自治区、西藏自治区、宁夏回族自治区、新疆维吾尔自治区。\n",
    "- 4个直辖市：北京市、天津市、上海市、重庆市。\n",
    "- 2个特别行政区：香港特别行政区、澳门特别行政区。"
   ]
  },
  {
   "cell_type": "code",
   "execution_count": 4,
   "metadata": {
    "ExecuteTime": {
     "end_time": "2020-02-10T13:45:18.725267Z",
     "start_time": "2020-02-10T13:45:18.701037Z"
    }
   },
   "outputs": [
    {
     "data": {
      "text/html": [
       "<div>\n",
       "<style scoped>\n",
       "    .dataframe tbody tr th:only-of-type {\n",
       "        vertical-align: middle;\n",
       "    }\n",
       "\n",
       "    .dataframe tbody tr th {\n",
       "        vertical-align: top;\n",
       "    }\n",
       "\n",
       "    .dataframe thead th {\n",
       "        text-align: right;\n",
       "    }\n",
       "</style>\n",
       "<table border=\"1\" class=\"dataframe\">\n",
       "  <thead>\n",
       "    <tr style=\"text-align: right;\">\n",
       "      <th></th>\n",
       "      <th>xzqh_code</th>\n",
       "      <th>xzqh_name</th>\n",
       "    </tr>\n",
       "  </thead>\n",
       "  <tbody>\n",
       "    <tr>\n",
       "      <th>0</th>\n",
       "      <td>110000</td>\n",
       "      <td>北京市</td>\n",
       "    </tr>\n",
       "    <tr>\n",
       "      <th>1</th>\n",
       "      <td>120000</td>\n",
       "      <td>天津市</td>\n",
       "    </tr>\n",
       "    <tr>\n",
       "      <th>2</th>\n",
       "      <td>130000</td>\n",
       "      <td>河北省</td>\n",
       "    </tr>\n",
       "  </tbody>\n",
       "</table>\n",
       "</div>"
      ],
      "text/plain": [
       "  xzqh_code xzqh_name\n",
       "0    110000       北京市\n",
       "1    120000       天津市\n",
       "2    130000       河北省"
      ]
     },
     "execution_count": 4,
     "metadata": {},
     "output_type": "execute_result"
    }
   ],
   "source": [
    "# 转为 pandas DF 调整部分数据\n",
    "xzqh_code_names_df = pd.DataFrame(xzqh_code_names, columns=['xzqh_code','xzqh_name'])\n",
    "xzqh_code_names_df['xzqh_name'] = xzqh_code_names_df.xzqh_name.apply(lambda xzqh_name : '中国台湾省' if '台湾省' in xzqh_name else xzqh_name)\n",
    "xzqh_code_names_df.head(3)"
   ]
  },
  {
   "cell_type": "code",
   "execution_count": 5,
   "metadata": {
    "ExecuteTime": {
     "end_time": "2020-02-10T13:45:21.566653Z",
     "start_time": "2020-02-10T13:45:21.517233Z"
    }
   },
   "outputs": [],
   "source": [
    "# 省份-直辖市-自治区-特别行政区处理\n",
    "sf_zxs_zzq_tbxzqs = xzqh_code_names_df[xzqh_code_names_df.xzqh_code.str.endswith('0000')]\n",
    "sf_zxs_zzq_tbxzqs['xzqh_ssq_code'] = sf_zxs_zzq_tbxzqs.xzqh_code.apply(lambda xzqh_code : xzqh_code[0:2])\n",
    "\n",
    "xss = xzqh_code_names_df[(~xzqh_code_names_df.xzqh_code.str.endswith('0000')) & xzqh_code_names_df.xzqh_code.str.endswith('00')]\n",
    "xss['xzqh_ssq_code'] = xss.xzqh_code.apply(lambda xzqh_code : xzqh_code[0:2])\n",
    "\n",
    "# 省-下属市结果合并\n",
    "union_df = pd.merge(sf_zxs_zzq_tbxzqs, xss, on='xzqh_ssq_code', how='left')\n",
    "union_df.columns = [\"province_code\",\"province_name\",\"xzqh_ssq_code\",\"city_code\",\"city_name\"]\n",
    "\n",
    "# 删除无效列\n",
    "union_df = union_df.drop(columns='xzqh_ssq_code')\n",
    "\n",
    "\n",
    "\"\"\"\n",
    "空值列数据补充\n",
    "\"\"\"\n",
    "from numpy import NaN\n",
    "def makeup_val(province_code,city_code):\n",
    "    if city_code is NaN:\n",
    "        return province_code\n",
    "    else:\n",
    "        return city_code\n",
    "# 补充直辖市-特别行政区等空数据\n",
    "union_df['city_code'] = union_df.apply(lambda rw: makeup_val(rw['province_code'],rw['city_code']),axis=1)\n",
    "union_df['city_name'] = union_df.apply(lambda rw: makeup_val(rw['province_name'],rw['city_name']),axis=1)\n",
    "\n",
    "# 格式化结果数据\n",
    "union_df['province_code'] = union_df.province_code.apply(lambda province_code : province_code[0:2])\n",
    "union_df['city_code'] = union_df.city_code.apply(lambda city_code : city_code[0:4])\n",
    "\n",
    "# 导出结果性文件\n",
    "union_df.to_csv(\"./2019年11月中华人民共和国县以上行政区划代码_省市_编码_中文名_340.csv\",encoding='utf8',sep=',');"
   ]
  },
  {
   "cell_type": "code",
   "execution_count": 6,
   "metadata": {
    "ExecuteTime": {
     "end_time": "2020-02-10T13:45:23.820926Z",
     "start_time": "2020-02-10T13:45:23.811932Z"
    }
   },
   "outputs": [
    {
     "name": "stdout",
     "output_type": "stream",
     "text": [
      "34 (340, 4)\n"
     ]
    }
   ],
   "source": [
    "print(len(union_df.province_code.unique()), union_df.shape)"
   ]
  },
  {
   "cell_type": "code",
   "execution_count": 10,
   "metadata": {
    "ExecuteTime": {
     "end_time": "2020-02-10T13:36:28.846063Z",
     "start_time": "2020-02-10T13:36:28.832677Z"
    },
    "scrolled": true
   },
   "outputs": [
    {
     "data": {
      "text/html": [
       "<div>\n",
       "<style scoped>\n",
       "    .dataframe tbody tr th:only-of-type {\n",
       "        vertical-align: middle;\n",
       "    }\n",
       "\n",
       "    .dataframe tbody tr th {\n",
       "        vertical-align: top;\n",
       "    }\n",
       "\n",
       "    .dataframe thead th {\n",
       "        text-align: right;\n",
       "    }\n",
       "</style>\n",
       "<table border=\"1\" class=\"dataframe\">\n",
       "  <thead>\n",
       "    <tr style=\"text-align: right;\">\n",
       "      <th></th>\n",
       "      <th>province_code</th>\n",
       "      <th>province_name</th>\n",
       "      <th>city_code</th>\n",
       "      <th>city_name</th>\n",
       "    </tr>\n",
       "  </thead>\n",
       "  <tbody>\n",
       "    <tr>\n",
       "      <th>0</th>\n",
       "      <td>11</td>\n",
       "      <td>北京市</td>\n",
       "      <td>1100</td>\n",
       "      <td>北京市</td>\n",
       "    </tr>\n",
       "    <tr>\n",
       "      <th>1</th>\n",
       "      <td>12</td>\n",
       "      <td>天津市</td>\n",
       "      <td>1200</td>\n",
       "      <td>天津市</td>\n",
       "    </tr>\n",
       "    <tr>\n",
       "      <th>2</th>\n",
       "      <td>13</td>\n",
       "      <td>河北省</td>\n",
       "      <td>1301</td>\n",
       "      <td>石家庄市</td>\n",
       "    </tr>\n",
       "  </tbody>\n",
       "</table>\n",
       "</div>"
      ],
      "text/plain": [
       "  province_code province_name city_code city_name\n",
       "0            11           北京市      1100       北京市\n",
       "1            12           天津市      1200       天津市\n",
       "2            13           河北省      1301      石家庄市"
      ]
     },
     "execution_count": 10,
     "metadata": {},
     "output_type": "execute_result"
    }
   ],
   "source": [
    "union_df.head(3)"
   ]
  },
  {
   "cell_type": "markdown",
   "metadata": {
    "ExecuteTime": {
     "end_time": "2020-02-09T07:28:56.726271Z",
     "start_time": "2020-02-09T07:28:56.721398Z"
    }
   },
   "source": [
    "## 产出结果2\n",
    "- 依赖结果1\n",
    "- 省编码/ 市编码/ 区县编码/ 省名称/ 市名称/ 区县名称"
   ]
  },
  {
   "cell_type": "code",
   "execution_count": 15,
   "metadata": {
    "ExecuteTime": {
     "end_time": "2020-02-10T13:47:09.791918Z",
     "start_time": "2020-02-10T13:47:09.184061Z"
    }
   },
   "outputs": [],
   "source": [
    "total_xzqh_codes = []\n",
    "total_xzqh_names = []\n",
    "\n",
    "for sp in soup.find_all('td', attrs={\"class\" : [\"xl7028029\",\"xl7128029\"]}):\n",
    "    if 'xl7028029' in sp.decode():\n",
    "        parent = sp.getText().strip()\n",
    "        if parent.isdigit():\n",
    "            parent_xzqh_codes = parent\n",
    "        else :\n",
    "            parent_xzqh_names = parent\n",
    "    else :\n",
    "        child = sp.getText().strip()\n",
    "        if child.isdigit():\n",
    "            total_xzqh_codes.append([parent_xzqh_codes,child])\n",
    "        else :\n",
    "            total_xzqh_names.append([parent_xzqh_names,child])\n",
    "total_xzqh_code_names = [ xzqh_code+xzqh_name for xzqh_code,xzqh_name in zip(total_xzqh_codes, total_xzqh_names) ]\n",
    "\n",
    "# 合并结果数据\n",
    "total_xzqh_code_names_df = pd.DataFrame(total_xzqh_code_names,columns=['zxs_zzqd','ssqx','zxs_zzqd_name','ssqx_name'])\n",
    "total_xzqh_code_names_df['city_code'] = total_xzqh_code_names_df.zxs_zzqd.apply(lambda zxs_zzqd : zxs_zzqd[:4])\n",
    "total_xzqh = pd.merge(union_df,total_xzqh_code_names_df,on='city_code', how='left')\n",
    "\n",
    "# 剔除无用列\n",
    "total_xzqh = total_xzqh.drop(['zxs_zzqd','zxs_zzqd_name'],axis=1);\n",
    "\n",
    "# 导出结果性文件\n",
    "union_df.to_csv(\"./2019年11月中华人民共和国县以上行政区划代码_省市区县_2852.csv\",encoding='utf8',sep=',');"
   ]
  },
  {
   "cell_type": "code",
   "execution_count": 17,
   "metadata": {
    "ExecuteTime": {
     "end_time": "2020-02-10T13:48:02.324424Z",
     "start_time": "2020-02-10T13:48:02.315479Z"
    }
   },
   "outputs": [
    {
     "data": {
      "text/plain": [
       "(2852, 6)"
      ]
     },
     "execution_count": 17,
     "metadata": {},
     "output_type": "execute_result"
    }
   ],
   "source": [
    "total_xzqh.shape"
   ]
  },
  {
   "cell_type": "code",
   "execution_count": 16,
   "metadata": {
    "ExecuteTime": {
     "end_time": "2020-02-10T13:47:14.260432Z",
     "start_time": "2020-02-10T13:47:14.243796Z"
    }
   },
   "outputs": [
    {
     "data": {
      "text/html": [
       "<div>\n",
       "<style scoped>\n",
       "    .dataframe tbody tr th:only-of-type {\n",
       "        vertical-align: middle;\n",
       "    }\n",
       "\n",
       "    .dataframe tbody tr th {\n",
       "        vertical-align: top;\n",
       "    }\n",
       "\n",
       "    .dataframe thead th {\n",
       "        text-align: right;\n",
       "    }\n",
       "</style>\n",
       "<table border=\"1\" class=\"dataframe\">\n",
       "  <thead>\n",
       "    <tr style=\"text-align: right;\">\n",
       "      <th></th>\n",
       "      <th>province_code</th>\n",
       "      <th>province_name</th>\n",
       "      <th>city_code</th>\n",
       "      <th>city_name</th>\n",
       "      <th>ssqx</th>\n",
       "      <th>ssqx_name</th>\n",
       "    </tr>\n",
       "  </thead>\n",
       "  <tbody>\n",
       "    <tr>\n",
       "      <th>0</th>\n",
       "      <td>11</td>\n",
       "      <td>北京市</td>\n",
       "      <td>1100</td>\n",
       "      <td>北京市</td>\n",
       "      <td>110101</td>\n",
       "      <td>东城区</td>\n",
       "    </tr>\n",
       "    <tr>\n",
       "      <th>1</th>\n",
       "      <td>11</td>\n",
       "      <td>北京市</td>\n",
       "      <td>1100</td>\n",
       "      <td>北京市</td>\n",
       "      <td>110102</td>\n",
       "      <td>西城区</td>\n",
       "    </tr>\n",
       "    <tr>\n",
       "      <th>2</th>\n",
       "      <td>11</td>\n",
       "      <td>北京市</td>\n",
       "      <td>1100</td>\n",
       "      <td>北京市</td>\n",
       "      <td>110105</td>\n",
       "      <td>朝阳区</td>\n",
       "    </tr>\n",
       "  </tbody>\n",
       "</table>\n",
       "</div>"
      ],
      "text/plain": [
       "  province_code province_name city_code city_name    ssqx ssqx_name\n",
       "0            11           北京市      1100       北京市  110101       东城区\n",
       "1            11           北京市      1100       北京市  110102       西城区\n",
       "2            11           北京市      1100       北京市  110105       朝阳区"
      ]
     },
     "execution_count": 16,
     "metadata": {},
     "output_type": "execute_result"
    }
   ],
   "source": [
    "total_xzqh.head(3)"
   ]
  },
  {
   "cell_type": "code",
   "execution_count": 19,
   "metadata": {
    "ExecuteTime": {
     "end_time": "2020-02-10T13:48:52.389478Z",
     "start_time": "2020-02-10T13:48:52.379480Z"
    }
   },
   "outputs": [],
   "source": []
  }
 ],
 "metadata": {
  "kernelspec": {
   "display_name": "Python 3",
   "language": "python",
   "name": "python3"
  },
  "language_info": {
   "codemirror_mode": {
    "name": "ipython",
    "version": 3
   },
   "file_extension": ".py",
   "mimetype": "text/x-python",
   "name": "python",
   "nbconvert_exporter": "python",
   "pygments_lexer": "ipython3",
   "version": "3.8.0"
  },
  "varInspector": {
   "cols": {
    "lenName": 16,
    "lenType": 16,
    "lenVar": 40
   },
   "kernels_config": {
    "python": {
     "delete_cmd_postfix": "",
     "delete_cmd_prefix": "del ",
     "library": "var_list.py",
     "varRefreshCmd": "print(var_dic_list())"
    },
    "r": {
     "delete_cmd_postfix": ") ",
     "delete_cmd_prefix": "rm(",
     "library": "var_list.r",
     "varRefreshCmd": "cat(var_dic_list()) "
    }
   },
   "types_to_exclude": [
    "module",
    "function",
    "builtin_function_or_method",
    "instance",
    "_Feature"
   ],
   "window_display": false
  }
 },
 "nbformat": 4,
 "nbformat_minor": 2
}
